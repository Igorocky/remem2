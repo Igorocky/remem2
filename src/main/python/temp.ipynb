{
 "cells": [
  {
   "cell_type": "code",
   "execution_count": 44,
   "id": "initial_id",
   "metadata": {
    "collapsed": true,
    "ExecuteTime": {
     "end_time": "2024-03-22T06:33:18.643329Z",
     "start_time": "2024-03-22T06:33:18.627347600Z"
    }
   },
   "outputs": [],
   "source": [
    "import inspect\n",
    "\n",
    "\n",
    "def create_new_object(visible:bool, name:str):\n",
    "    \"\"\"Crates a new object in the database\"\"\"\n",
    "    pass"
   ]
  },
  {
   "cell_type": "code",
   "execution_count": 45,
   "outputs": [
    {
     "data": {
      "text/plain": "['visible', 'name']"
     },
     "execution_count": 45,
     "metadata": {},
     "output_type": "execute_result"
    }
   ],
   "source": [
    "sig = inspect.signature(create_new_object)\n",
    "sig.parameters['visible'].default\n",
    "[p for _,p in enumerate(sig.parameters)]\n"
   ],
   "metadata": {
    "collapsed": false,
    "ExecuteTime": {
     "end_time": "2024-03-22T06:33:21.262271Z",
     "start_time": "2024-03-22T06:33:21.237793400Z"
    }
   },
   "id": "a5a53e252c92a935"
  }
 ],
 "metadata": {
  "kernelspec": {
   "display_name": "Python 3",
   "language": "python",
   "name": "python3"
  },
  "language_info": {
   "codemirror_mode": {
    "name": "ipython",
    "version": 2
   },
   "file_extension": ".py",
   "mimetype": "text/x-python",
   "name": "python",
   "nbconvert_exporter": "python",
   "pygments_lexer": "ipython2",
   "version": "2.7.6"
  }
 },
 "nbformat": 4,
 "nbformat_minor": 5
}
